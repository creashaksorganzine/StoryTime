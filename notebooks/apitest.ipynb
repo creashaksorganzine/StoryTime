{
 "cells": [
  {
   "cell_type": "code",
   "execution_count": 99,
   "metadata": {},
   "outputs": [],
   "source": [
    "import openai\n",
    "import os\n",
    "from dotenv import load_dotenv\n",
    "\n",
    "# load environment variables from .env file\n",
    "load_dotenv('.secrets.env')\n",
    "\n",
    "# set API key from environment variable\n",
    "openai.api_key = os.environ[\"openaiApi\"]\n",
    "\n",
    "# Define the model name\n",
    "MODEL = \"gpt-3.5-turbo\"\n",
    "\n",
    "# Initialize the chat history with a system message\n",
    "chat_history = [\n",
    "  {\n",
    "    \"role\": \"system\",\n",
    "    \"content\": \"You are a novelist.\"\n",
    "  }\n",
    "]\n",
    "\n",
    "# Example OpenAI Python library request\n",
    "MODEL = \"gpt-3.5-turbo\"\n",
    "response = openai.ChatCompletion.create(\n",
    "    model=MODEL,\n",
    "    messages=[\n",
    "        {\"role\": \"system\", \"content\": \"You are a novelist.\"},\n",
    "        {\"role\": \"user\", \"content\": \"Write a sentance describing a banana in the style of HP Lovecraft.\"},\n",
    "        {\"role\": \"assistant\", \"content\": \"Sure, here is a sentance describing a banana in the style of HP Lovecraft: \"},\n",
    "    ],\n",
    "    temperature=0,\n",
    ")\n",
    "\n",
    "# print(response)\n",
    "\n",
    "reposense = response\n"
   ]
  },
  {
   "cell_type": "code",
   "execution_count": 100,
   "metadata": {},
   "outputs": [
    {
     "name": "stdout",
     "output_type": "stream",
     "text": [
      "[{'role': 'assistant', 'content': '\"The elongated, yellow fruit with its curved, sinuous form and mottled skin seemed to exude an otherworldly aura, as if it were a grotesque manifestation of some ancient, eldritch power lurking just beyond the veil of our reality.\"'}]\n"
     ]
    }
   ],
   "source": [
    "import json\n",
    "\n",
    "# Create an empty list to store the chat history\n",
    "chat_history = []\n",
    "\n",
    "# Get the message object from the first choice\n",
    "message = response[\"choices\"][0][\"message\"]\n",
    "\n",
    "# Format the message content as a dictionary\n",
    "message_content = {\"role\": message[\"role\"], \"content\": message[\"content\"]}\n",
    "\n",
    "# Append the message content to the chat history\n",
    "chat_history.append(message_content)\n",
    "\n",
    "# Print the chat history\n",
    "print(chat_history)\n"
   ]
  },
  {
   "cell_type": "code",
   "execution_count": 103,
   "metadata": {},
   "outputs": [
    {
     "name": "stdout",
     "output_type": "stream",
     "text": [
      "[{'role': 'assistant', 'content': '\"The elongated, yellow fruit with its curved, sinuous form and mottled skin seemed to exude an otherworldly aura, as if it were a grotesque manifestation of some ancient, eldritch power lurking just beyond the veil of our reality.\"'}]\n"
     ]
    }
   ],
   "source": [
    "print(chat_history)\n",
    "\n",
    "# Example OpenAI Python library request\n",
    "MODEL = \"gpt-3.5-turbo\"\n",
    "response = openai.ChatCompletion.create(\n",
    "    model=MODEL,\n",
    "    messages=chat_history,\n",
    "    temperature=0,\n",
    ")\n",
    "\n",
    "print(response)\n",
    "\n",
    "reposense = response\n"
   ]
  },
  {
   "cell_type": "code",
   "execution_count": 105,
   "metadata": {},
   "outputs": [
    {
     "name": "stdout",
     "output_type": "stream",
     "text": [
      "[{'role': 'assistant', 'content': \"As I approached the fruit, I couldn't help but feel a sense of unease. Its shape was so unnatural, so unlike anything I had ever seen before. And yet, there was something undeniably alluring about it, something that drew me closer and closer until I was standing right in front of it.\\n\\nI reached out tentatively, my fingers brushing against the rough, bumpy skin. It felt cold and clammy to the touch, like the skin of a reptile. I hesitated for a moment, wondering if I should pull back, but then I felt a strange, almost electric sensation coursing through my body.\\n\\nIt was as if the fruit was alive, pulsing with some kind of dark energy that was seeping into my skin and filling me with a sense of power and vitality. I felt my heart racing, my breath quickening, as I closed my eyes and surrendered to the strange, intoxicating sensation.\\n\\nWhen I opened my eyes again, I was no longer in the same place. I was standing in a vast, dark chamber, surrounded by towering pillars of stone and flickering torches that cast eerie shadows on the walls.\\n\\nIn the center of the room stood a figure, cloaked in shadows and wreathed in a halo of flickering flames. It was a being of immense power and malevolence, and I knew instinctively that it was the source of the fruit's eldritch aura.\\n\\nI tried to run, to flee from the chamber and escape the creature's grasp, but my legs were like lead. I was rooted to the spot, unable to move as the creature approached me, its eyes glowing with a sickly green light.\\n\\nAnd then, just as it was about to strike, I woke up, drenched in sweat and gasping for breath. It had all been a dream, a nightmare born of my own fears and anxieties.\\n\\nBut as I looked down at my hand, I saw that I was still clutching the fruit, its mottled skin now slick with my own sweat. And I knew, deep down, that the nightmare was far from over.\"}]\n"
     ]
    }
   ],
   "source": [
    "# print(response)\n",
    "import json\n",
    "\n",
    "# Create an empty list to store the chat history\n",
    "chat_history = []\n",
    "\n",
    "# Get the message object from the first choice\n",
    "message = response[\"choices\"][0][\"message\"]\n",
    "\n",
    "# Format the message content as a dictionary\n",
    "message_content = {\"role\": message[\"role\"], \"content\": message[\"content\"]}\n",
    "\n",
    "# Append the message content to the chat history\n",
    "chat_history.append(message_content)\n",
    "\n",
    "# Print the chat history\n",
    "print(chat_history)"
   ]
  },
  {
   "cell_type": "code",
   "execution_count": 111,
   "metadata": {},
   "outputs": [
    {
     "name": "stdout",
     "output_type": "stream",
     "text": [
      "[{'role': 'assistant', 'content': \"As I approached the fruit, I couldn't help but feel a sense of unease. Its shape was so unnatural, so unlike anything I had ever seen before. And yet, there was something undeniably alluring about it, something that drew me closer and closer until I was standing right in front of it.\\n\\nI reached out tentatively, my fingers brushing against the rough, bumpy skin. It felt cold and clammy to the touch, like the skin of a reptile. I hesitated for a moment, wondering if I should pull back, but then I felt a strange, almost electric sensation coursing through my body.\\n\\nIt was as if the fruit was alive, pulsing with some kind of dark energy that was seeping into my skin and filling me with a sense of power and vitality. I felt my heart racing, my breath quickening, as I closed my eyes and surrendered to the strange, intoxicating sensation.\\n\\nWhen I opened my eyes again, I was no longer in the same place. I was standing in a vast, dark chamber, surrounded by towering pillars of stone and flickering torches that cast eerie shadows on the walls.\\n\\nIn the center of the room stood a figure, cloaked in shadows and wreathed in a halo of flickering flames. It was a being of immense power and malevolence, and I knew instinctively that it was the source of the fruit's eldritch aura.\\n\\nI tried to run, to flee from the chamber and escape the creature's grasp, but my legs were like lead. I was rooted to the spot, unable to move as the creature approached me, its eyes glowing with a sickly green light.\\n\\nAnd then, just as it was about to strike, I woke up, drenched in sweat and gasping for breath. It had all been a dream, a nightmare born of my own fears and anxieties.\\n\\nBut as I looked down at my hand, I saw that I was still clutching the fruit, its mottled skin now slick with my own sweat. And I knew, deep down, that the nightmare was far from over.\"}]\n",
      "[{'role': 'assistant', 'content': \"As I approached the fruit, I couldn't help but feel a sense of unease. Its shape was so unnatural, so unlike anything I had ever seen before. And yet, there was something undeniably alluring about it, something that drew me closer and closer until I was standing right in front of it.\\n\\nI reached out tentatively, my fingers brushing against the rough, bumpy skin. It felt cold and clammy to the touch, like the skin of a reptile. I hesitated for a moment, wondering if I should pull back, but then I felt a strange, almost electric sensation coursing through my body.\\n\\nIt was as if the fruit was alive, pulsing with some kind of dark energy that was seeping into my skin and filling me with a sense of power and vitality. I felt my heart racing, my breath quickening, as I closed my eyes and surrendered to the strange, intoxicating sensation.\\n\\nWhen I opened my eyes again, I was no longer in the same place. I was standing in a vast, dark chamber, surrounded by towering pillars of stone and flickering torches that cast eerie shadows on the walls.\\n\\nIn the center of the room stood a figure, cloaked in shadows and wreathed in a halo of flickering flames. It was a being of immense power and malevolence, and I knew instinctively that it was the source of the fruit's eldritch aura.\\n\\nI tried to run, to flee from the chamber and escape the creature's grasp, but my legs were like lead. I was rooted to the spot, unable to move as the creature approached me, its eyes glowing with a sickly green light.\\n\\nAnd then, just as it was about to strike, I woke up, drenched in sweat and gasping for breath. It had all been a dream, a nightmare born of my own fears and anxieties.\\n\\nBut as I looked down at my hand, I saw that I was still clutching the fruit, its mottled skin now slick with my own sweat. And I knew, deep down, that the nightmare was far from over.\"}]\n",
      "1\n"
     ]
    }
   ],
   "source": [
    "import openai\n",
    "import os\n",
    "from dotenv import load_dotenv\n",
    "import json\n",
    "\n",
    "def first_chat_request_response():\n",
    "  # load environment variables from .env file\n",
    "  load_dotenv('.secrets.env')\n",
    "  # set API key from environment variable\n",
    "  openai.api_key = os.environ[\"openaiApi\"]\n",
    "  # Define the model name\n",
    "  MODEL = \"gpt-3.5-turbo\"\n",
    "  # Initialize the chat history with a system message\n",
    "  chat_history = [{\"role\": \"system\",\"content\": \"You are a novelist.\"}]\n",
    "  # Example OpenAI Python library request\n",
    "  MODEL = \"gpt-3.5-turbo\"\n",
    "  response = openai.ChatCompletion.create(model=MODEL, messages=[{\"role\": \"system\", \"content\": \"You are a novelist.\"},{\"role\": \"user\", \"content\": \"Write a sentance describing a banana in the style of HP Lovecraft.\"},{\"role\": \"assistant\", \"content\": \"Sure, here is a sentance describing a banana in the style of HP Lovecraft: \"},],temperature=0,)\n",
    "  # print(response)\n",
    "  reposense = response\n",
    "  # Get the message object from the first choice\n",
    "  message = response[\"choices\"][0][\"message\"]\n",
    "  # Format the message content as a dictionary\n",
    "  message_content = {\"role\": message[\"role\"], \"content\": message[\"content\"]}\n",
    "  # Append the message content to the chat history\n",
    "  chat_history.append(message_content)\n",
    "  # Create an empty list to store the chat history\n",
    "  chat_history = []\n",
    "  # Get the message object from the first choice\n",
    "  message = response[\"choices\"][0][\"message\"]\n",
    "  # Format the message content as a dictionary\n",
    "  message_content = {\"role\": message[\"role\"], \"content\": message[\"content\"]}\n",
    "  # Append the message content to the chat history\n",
    "  chat_history.append(message_content)\n",
    "\n",
    "# Print the chat history\n",
    "first_chat_request_response()\n",
    "print(len(chat_history))\n",
    "print(chat_history)\n",
    "\n",
    "print(chat_history)\n",
    "print(len(chat_history))\n"
   ]
  },
  {
   "cell_type": "code",
   "execution_count": 112,
   "metadata": {},
   "outputs": [
    {
     "name": "stdout",
     "output_type": "stream",
     "text": [
      "{\n",
      "  \"choices\": [\n",
      "    {\n",
      "      \"finish_reason\": \"stop\",\n",
      "      \"index\": 0,\n",
      "      \"message\": {\n",
      "        \"content\": \"The fruit had somehow brought me into contact with a malevolent force, and I could feel its influence still lingering in my mind.\\n\\nI knew I had to get rid of the fruit, to destroy it before it could do any more harm. But as I tried to let go of it, I found that my fingers were locked in a death grip, unwilling to release their hold.\\n\\nPanic set in as I realized that I was trapped, caught between the power of the fruit and the malevolent force that had summoned it. I was alone, helpless, and at the mercy of forces beyond my understanding.\\n\\nAnd then, just as I was about to give up hope, I felt a sudden surge of strength and determination. It was as if a voice inside me was urging me to fight back, to resist the darkness and reclaim my own power.\\n\\nWith a fierce cry, I summoned all my strength and tore the fruit from my grasp, hurling it across the room with all my might. It shattered against the wall, sending a shower of juice and pulp flying in all directions.\\n\\nFor a moment, there was silence. And then, slowly, the darkness began to recede, the malevolent force fading away like a bad dream. I was left alone, shaken but victorious, with nothing but the shattered remains of the fruit to remind me of the nightmare I had just endured.\",\n",
      "        \"role\": \"assistant\"\n",
      "      }\n",
      "    }\n",
      "  ],\n",
      "  \"created\": 1680023383,\n",
      "  \"id\": \"chatcmpl-6z77HaaBulnIyPH5fHkUJAwwB2xUz\",\n",
      "  \"model\": \"gpt-3.5-turbo-0301\",\n",
      "  \"object\": \"chat.completion\",\n",
      "  \"usage\": {\n",
      "    \"completion_tokens\": 276,\n",
      "    \"prompt_tokens\": 439,\n",
      "    \"total_tokens\": 715\n",
      "  }\n",
      "}\n",
      "1\n",
      "[{'role': 'assistant', 'content': \"As I approached the fruit, I couldn't help but feel a sense of unease. Its shape was so unnatural, so unlike anything I had ever seen before. And yet, there was something undeniably alluring about it, something that drew me closer and closer until I was standing right in front of it.\\n\\nI reached out tentatively, my fingers brushing against the rough, bumpy skin. It felt cold and clammy to the touch, like the skin of a reptile. I hesitated for a moment, wondering if I should pull back, but then I felt a strange, almost electric sensation coursing through my body.\\n\\nIt was as if the fruit was alive, pulsing with some kind of dark energy that was seeping into my skin and filling me with a sense of power and vitality. I felt my heart racing, my breath quickening, as I closed my eyes and surrendered to the strange, intoxicating sensation.\\n\\nWhen I opened my eyes again, I was no longer in the same place. I was standing in a vast, dark chamber, surrounded by towering pillars of stone and flickering torches that cast eerie shadows on the walls.\\n\\nIn the center of the room stood a figure, cloaked in shadows and wreathed in a halo of flickering flames. It was a being of immense power and malevolence, and I knew instinctively that it was the source of the fruit's eldritch aura.\\n\\nI tried to run, to flee from the chamber and escape the creature's grasp, but my legs were like lead. I was rooted to the spot, unable to move as the creature approached me, its eyes glowing with a sickly green light.\\n\\nAnd then, just as it was about to strike, I woke up, drenched in sweat and gasping for breath. It had all been a dream, a nightmare born of my own fears and anxieties.\\n\\nBut as I looked down at my hand, I saw that I was still clutching the fruit, its mottled skin now slick with my own sweat. And I knew, deep down, that the nightmare was far from over.\"}]\n",
      "[{'role': 'assistant', 'content': \"As I approached the fruit, I couldn't help but feel a sense of unease. Its shape was so unnatural, so unlike anything I had ever seen before. And yet, there was something undeniably alluring about it, something that drew me closer and closer until I was standing right in front of it.\\n\\nI reached out tentatively, my fingers brushing against the rough, bumpy skin. It felt cold and clammy to the touch, like the skin of a reptile. I hesitated for a moment, wondering if I should pull back, but then I felt a strange, almost electric sensation coursing through my body.\\n\\nIt was as if the fruit was alive, pulsing with some kind of dark energy that was seeping into my skin and filling me with a sense of power and vitality. I felt my heart racing, my breath quickening, as I closed my eyes and surrendered to the strange, intoxicating sensation.\\n\\nWhen I opened my eyes again, I was no longer in the same place. I was standing in a vast, dark chamber, surrounded by towering pillars of stone and flickering torches that cast eerie shadows on the walls.\\n\\nIn the center of the room stood a figure, cloaked in shadows and wreathed in a halo of flickering flames. It was a being of immense power and malevolence, and I knew instinctively that it was the source of the fruit's eldritch aura.\\n\\nI tried to run, to flee from the chamber and escape the creature's grasp, but my legs were like lead. I was rooted to the spot, unable to move as the creature approached me, its eyes glowing with a sickly green light.\\n\\nAnd then, just as it was about to strike, I woke up, drenched in sweat and gasping for breath. It had all been a dream, a nightmare born of my own fears and anxieties.\\n\\nBut as I looked down at my hand, I saw that I was still clutching the fruit, its mottled skin now slick with my own sweat. And I knew, deep down, that the nightmare was far from over.\"}]\n",
      "1\n"
     ]
    }
   ],
   "source": [
    "\n",
    "def subsequent_chat_request_response():\n",
    "  # Example OpenAI Python library request\n",
    "  MODEL = \"gpt-3.5-turbo\"\n",
    "  response = openai.ChatCompletion.create(\n",
    "      model=MODEL,\n",
    "      messages=chat_history,\n",
    "      temperature=0,\n",
    "  )\n",
    "  print(response)\n",
    "  reposense = response\n",
    "\n",
    "# Print the chat history\n",
    "subsequent_chat_request_response()\n",
    "print(len(chat_history))\n",
    "print(chat_history)\n",
    "\n",
    "print(chat_history)\n",
    "print(len(chat_history))"
   ]
  }
 ],
 "metadata": {
  "kernelspec": {
   "display_name": "Python 3",
   "language": "python",
   "name": "python3"
  },
  "language_info": {
   "codemirror_mode": {
    "name": "ipython",
    "version": 3
   },
   "file_extension": ".py",
   "mimetype": "text/x-python",
   "name": "python",
   "nbconvert_exporter": "python",
   "pygments_lexer": "ipython3",
   "version": "3.11.2"
  },
  "orig_nbformat": 4
 },
 "nbformat": 4,
 "nbformat_minor": 2
}
