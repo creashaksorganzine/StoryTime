{
 "cells": [
  {
   "cell_type": "code",
   "execution_count": 2,
   "metadata": {},
   "outputs": [
    {
     "name": "stdout",
     "output_type": "stream",
     "text": [
      "1\n",
      "[{'role': 'assistant', 'content': 'The yellow, oblong fruit with its curved, sinuous form and sickly sweet aroma seemed to exude an otherworldly aura, as if it were a portal to a realm beyond human comprehension.'}]\n",
      "2\n",
      "[{'role': 'assistant', 'content': 'The yellow, oblong fruit with its curved, sinuous form and sickly sweet aroma seemed to exude an otherworldly aura, as if it were a portal to a realm beyond human comprehension.'}, {'role': 'assistant', 'content': \"Its skin was smooth and glossy, with a vibrant shade of yellow that seemed to glow in the light. As I held it in my hand, I couldn't help but feel a sense of unease, as if I were holding something that was not meant for mortal hands.\\n\\nI hesitated for a moment, wondering if I should even attempt to peel it open. But my curiosity got the better of me, and I slowly began to peel away the skin, revealing the soft, fleshy interior.\\n\\nAs I took a bite, the sweetness overwhelmed my senses, and I felt a strange sensation wash over me. It was as if I had been transported to another world, a place of pure bliss and ecstasy.\\n\\nFor a moment, I forgot where I was and who I was, lost in the euphoria of the fruit's flavor. But as the sensation began to fade, I realized that I had been changed in some fundamental way, that the fruit had left its mark on me.\\n\\nAnd as I looked at the empty peel in my hand, I knew that I would never be the same again.\"}]\n"
     ]
    }
   ],
   "source": [
    "import openai\n",
    "import os\n",
    "from dotenv import load_dotenv\n",
    "import json\n",
    "\n",
    "chat_history = []\n",
    "\n",
    "\n",
    "def first_chat_request_response():\n",
    "    # load environment variables from .env file\n",
    "    load_dotenv('.secrets.env')\n",
    "    # set API key from environment variable\n",
    "    openai.api_key = os.environ[\"openaiApi\"]\n",
    "    # Define the model name\n",
    "    MODEL = \"gpt-3.5-turbo\"\n",
    "    # Example OpenAI Python library request\n",
    "    response = openai.ChatCompletion.create(model=MODEL, messages=[{\"role\": \"system\", \"content\": \"You are a novelist.\"}, {\n",
    "                                            \"role\": \"user\", \"content\": \"Write a sentence describing a banana in the style of HP Lovecraft.\"}], temperature=0)\n",
    "    # Get the message object from the first choice\n",
    "    message = response[\"choices\"][0][\"message\"]\n",
    "    # Format the message content as a dictionary\n",
    "    message_content = {\"role\": message[\"role\"], \"content\": message[\"content\"]}\n",
    "    # Append the message content to the chat history\n",
    "    chat_history.append(message_content)\n",
    "\n",
    "\n",
    "# Call the function to start the chat\n",
    "first_chat_request_response()\n",
    "\n",
    "print(len(chat_history))\n",
    "print(chat_history)\n",
    "\n",
    "\n",
    "def subsequent_chat_request_response():\n",
    "    # Example OpenAI Python library request\n",
    "    MODEL = \"gpt-3.5-turbo\"\n",
    "    response = openai.ChatCompletion.create(\n",
    "        model=MODEL,\n",
    "        messages=chat_history,\n",
    "        temperature=0,\n",
    "    )\n",
    "    # print(response)\n",
    "    # reposense = response\n",
    "    # Get the message object from the first choice\n",
    "    message = response[\"choices\"][0][\"message\"]\n",
    "    # Format the message content as a dictionary\n",
    "    message_content = {\"role\": message[\"role\"], \"content\": message[\"content\"]}\n",
    "    # Append the message content to the chat history\n",
    "    chat_history.append(message_content)\n",
    "\n",
    "\n",
    "# Call the function to generate a response\n",
    "subsequent_chat_request_response()\n",
    "\n",
    "print(len(chat_history))\n",
    "print(chat_history)\n"
   ]
  }
 ],
 "metadata": {
  "kernelspec": {
   "display_name": "Python 3",
   "language": "python",
   "name": "python3"
  },
  "language_info": {
   "codemirror_mode": {
    "name": "ipython",
    "version": 3
   },
   "file_extension": ".py",
   "mimetype": "text/x-python",
   "name": "python",
   "nbconvert_exporter": "python",
   "pygments_lexer": "ipython3",
   "version": "3.11.2"
  },
  "orig_nbformat": 4
 },
 "nbformat": 4,
 "nbformat_minor": 2
}
