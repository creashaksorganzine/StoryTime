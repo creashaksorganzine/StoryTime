{
 "cells": [
  {
   "cell_type": "code",
   "execution_count": 1,
   "metadata": {},
   "outputs": [],
   "source": [
    "import openai\n",
    "import os\n",
    "from dotenv import load_dotenv\n",
    "import json\n",
    "\n",
    "chat_history = []\n",
    "\n",
    "\n",
    "def first_chat_request_response():\n",
    "    # load environment variables from .env file\n",
    "    load_dotenv('.secrets.env')\n",
    "    # set API key from environment variable\n",
    "    openai.api_key = os.environ[\"openaiApi\"]\n",
    "    # Define the model name\n",
    "    MODEL = \"gpt-3.5-turbo\"\n",
    "    # Example OpenAI Python library request\n",
    "    response = openai.ChatCompletion.create(model=MODEL, messages=[{\"role\": \"system\", \"content\": \"You are a novelist.\"}, {\n",
    "                                            \"role\": \"user\", \"content\": \"Write a sentence describing a banana in the style of HP Lovecraft.\"}], temperature=0)\n",
    "    # Get the message object from the first choice\n",
    "    message = response[\"choices\"][0][\"message\"]\n",
    "    # Format the message content as a dictionary\n",
    "    message_content = {\"role\": message[\"role\"], \"content\": message[\"content\"]}\n",
    "    # Append the message content to the chat history\n",
    "    chat_history.append(message_content)\n",
    "\n",
    "\n",
    "# Call the function to start the chat\n",
    "first_chat_request_response()\n",
    "\n",
    "# print(len(chat_history))\n",
    "# print(chat_history)\n",
    "\n",
    "\n",
    "def subsequent_chat_request_response():\n",
    "    # Example OpenAI Python library request\n",
    "    MODEL = \"gpt-3.5-turbo\"\n",
    "    response = openai.ChatCompletion.create(\n",
    "        model=MODEL,\n",
    "        messages=chat_history,\n",
    "        temperature=0,\n",
    "    )\n",
    "    # print(response)\n",
    "    # reposense = response\n",
    "    # Get the message object from the first choice\n",
    "    message = response[\"choices\"][0][\"message\"]\n",
    "    # Format the message content as a dictionary\n",
    "    message_content = {\"role\": message[\"role\"], \"content\": message[\"content\"]}\n",
    "    # Append the message content to the chat history\n",
    "    chat_history.append(message_content)\n",
    "\n",
    "\n",
    "# Call the function to generate a followup response\n",
    "subsequent_chat_request_response()\n",
    "\n",
    "# print(len(chat_history))\n",
    "# print(chat_history)\n",
    "\n",
    "# Call the function to generate a followup response\n",
    "subsequent_chat_request_response()\n",
    "\n",
    "# print(len(chat_history))\n",
    "# print(chat_history)\n",
    "for i in range(len(chat_history)):\n",
    "  print(chat_history[i][\"content\"])"
   ]
  },
  {
   "cell_type": "code",
   "execution_count": 4,
   "metadata": {},
   "outputs": [
    {
     "name": "stdout",
     "output_type": "stream",
     "text": [
      "3\n",
      "[{'role': 'assistant', 'content': 'The yellow, oblong fruit with its curved, sinuous form and sickly sweet aroma seemed to exude an otherworldly aura, as if it were a portal to a realm beyond human comprehension.'}, {'role': 'assistant', 'content': \"Its skin was smooth and glossy, with a bright, almost artificial hue that seemed to glow in the light. As I approached it, I couldn't help but feel a sense of unease, as if I were about to cross a threshold into a world I was not meant to enter.\\n\\nBut despite my trepidation, I reached out and plucked the fruit from its perch, feeling its weight in my hand. It was surprisingly heavy, and I could feel the firmness of its flesh beneath my fingers.\\n\\nWith a deep breath, I brought the fruit to my lips and took a bite. The flesh was soft and yielding, with a texture that was almost creamy. And the taste...oh, the taste. It was like nothing I had ever experienced before. Sweet and tangy, with a hint of something almost floral, it was a flavor that seemed to dance on my tongue, filling my mouth with a heady, intoxicating sensation.\\n\\nAs I savored the fruit, I felt a sense of wonder and awe wash over me. It was as if I had been transported to a world beyond my wildest dreams, a place where anything was possible and the impossible was commonplace.\\n\\nAnd as I finished the last bite, I knew that I would never forget this moment, this taste, this feeling. For in that one, perfect fruit, I had found a glimpse of something truly magical.\"}, {'role': 'assistant', 'content': 'But as I looked around me, I realized that the world had not changed. The trees still swayed in the breeze, the birds still sang their sweet melodies, and the sun still shone down upon me. It was only my perception that had shifted, my senses heightened by the experience of that otherworldly fruit.\\n\\nWith a smile on my face, I took a deep breath and continued on my journey, feeling a newfound sense of wonder and possibility in every step. For I knew that, no matter what challenges lay ahead, I had tasted something truly extraordinary, and that knowledge would stay with me always.'}]\n",
      "The yellow, oblong fruit with its curved, sinuous form and sickly sweet aroma seemed to exude an otherworldly aura, as if it were a portal to a realm beyond human comprehension.\n",
      "Its skin was smooth and glossy, with a bright, almost artificial hue that seemed to glow in the light. As I approached it, I couldn't help but feel a sense of unease, as if I were about to cross a threshold into a world I was not meant to enter.\n",
      "\n",
      "But despite my trepidation, I reached out and plucked the fruit from its perch, feeling its weight in my hand. It was surprisingly heavy, and I could feel the firmness of its flesh beneath my fingers.\n",
      "\n",
      "With a deep breath, I brought the fruit to my lips and took a bite. The flesh was soft and yielding, with a texture that was almost creamy. And the taste...oh, the taste. It was like nothing I had ever experienced before. Sweet and tangy, with a hint of something almost floral, it was a flavor that seemed to dance on my tongue, filling my mouth with a heady, intoxicating sensation.\n",
      "\n",
      "As I savored the fruit, I felt a sense of wonder and awe wash over me. It was as if I had been transported to a world beyond my wildest dreams, a place where anything was possible and the impossible was commonplace.\n",
      "\n",
      "And as I finished the last bite, I knew that I would never forget this moment, this taste, this feeling. For in that one, perfect fruit, I had found a glimpse of something truly magical.\n",
      "But as I looked around me, I realized that the world had not changed. The trees still swayed in the breeze, the birds still sang their sweet melodies, and the sun still shone down upon me. It was only my perception that had shifted, my senses heightened by the experience of that otherworldly fruit.\n",
      "\n",
      "With a smile on my face, I took a deep breath and continued on my journey, feeling a newfound sense of wonder and possibility in every step. For I knew that, no matter what challenges lay ahead, I had tasted something truly extraordinary, and that knowledge would stay with me always.\n"
     ]
    }
   ],
   "source": [
    "print(len(chat_history))\n",
    "print(chat_history)\n",
    "\n",
    "for i in range(len(chat_history)):\n",
    "  print(chat_history[i][\"content\"])"
   ]
  }
 ],
 "metadata": {
  "kernelspec": {
   "display_name": "Python 3",
   "language": "python",
   "name": "python3"
  },
  "language_info": {
   "codemirror_mode": {
    "name": "ipython",
    "version": 3
   },
   "file_extension": ".py",
   "mimetype": "text/x-python",
   "name": "python",
   "nbconvert_exporter": "python",
   "pygments_lexer": "ipython3",
   "version": "3.11.2"
  },
  "orig_nbformat": 4
 },
 "nbformat": 4,
 "nbformat_minor": 2
}
